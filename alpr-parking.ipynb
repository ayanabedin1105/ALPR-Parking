{
 "cells": [
  {
   "cell_type": "code",
   "execution_count": null,
   "metadata": {},
   "outputs": [],
   "source": [
    "%pip install opencv-python"
   ]
  },
  {
   "cell_type": "code",
   "execution_count": null,
   "metadata": {},
   "outputs": [],
   "source": [
    "%pip install easyocr"
   ]
  },
  {
   "cell_type": "code",
   "execution_count": null,
   "metadata": {},
   "outputs": [],
   "source": [
    "!git clone https://github.com/ultralytics/yolov5.git"
   ]
  },
  {
   "cell_type": "code",
   "execution_count": null,
   "metadata": {},
   "outputs": [],
   "source": [
    "cd yolov5"
   ]
  },
  {
   "cell_type": "code",
   "execution_count": null,
   "metadata": {},
   "outputs": [],
   "source": [
    "!python -m pip install -U -r requirements.txt  # Install dependencies\n",
    "!python models/download.py --weights yolov5s  # Download the 'yolov5s' model"
   ]
  },
  {
   "cell_type": "code",
   "execution_count": null,
   "metadata": {},
   "outputs": [],
   "source": [
    "import cv2\n",
    "import easyocr"
   ]
  },
  {
   "cell_type": "code",
   "execution_count": null,
   "metadata": {},
   "outputs": [],
   "source": [
    "# Initialize EasyOCR reader\n",
    "reader = easyocr.Reader(['en'])"
   ]
  },
  {
   "cell_type": "code",
   "execution_count": null,
   "metadata": {},
   "outputs": [],
   "source": [
    "# Hardcoded list of authorized license plates\n",
    "authorized_plates = ['L-656-XH', 'H-644-LX', 'K-884-RS']  # Add your authorized plates here"
   ]
  },
  {
   "cell_type": "code",
   "execution_count": null,
   "metadata": {},
   "outputs": [],
   "source": [
    "# Function to check if detected plate is authorized\n",
    "def is_authorized(plate_text):\n",
    "    return plate_text in authorized_plates"
   ]
  },
  {
   "cell_type": "code",
   "execution_count": null,
   "metadata": {},
   "outputs": [],
   "source": [
    "# Load YOLOv3 model for object detection\n",
    "net = cv2.dnn.readNet('yolov5.weights', 'yolov5.cfg')\n",
    "classes = []\n",
    "with open('coco.names', 'r') as f:\n",
    "    classes = [line.strip() for line in f.readlines()]"
   ]
  },
  {
   "cell_type": "code",
   "execution_count": null,
   "metadata": {},
   "outputs": [],
   "source": [
    "# Function to perform license plate recognition\n",
    "def recognize_license_plate(image):\n",
    "    result = reader.readtext(image)\n",
    "    if result:\n",
    "        return result[0][1]  # Return the detected text\n",
    "    return None"
   ]
  },
  {
   "cell_type": "code",
   "execution_count": null,
   "metadata": {},
   "outputs": [],
   "source": [
    "# Simulated video feed or image capture\n",
    "# Replace this with your actual video feed capture logic\n",
    "def capture_video_frame():\n",
    "    # Capture a frame from the video feed or image\n",
    "    # For example:\n",
    "    cap = cv2.VideoCapture('/content/demo.mp4')  # Replace '0' with video file or camera index\n",
    "    ret, frame = cap.read()\n",
    "    return frame\n",
    "    pass\n"
   ]
  },
  {
   "cell_type": "code",
   "execution_count": null,
   "metadata": {},
   "outputs": [],
   "source": [
    "while True:\n",
    "    frame = capture_video_frame()\n",
    "\n",
    "    # Perform vehicle detection and extract the region containing the license plate\n",
    "    # This part can be similar to the YOLOv8 object detection code mentioned earlier\n",
    "\n",
    "    # Simulated detected_plate image (replace this with your actual detected plate image)\n",
    "    detected_plate = cv2.imread('detected_plate.jpg')\n",
    "\n",
    "    # Perform license plate recognition\n",
    "    plate_text = recognize_license_plate(detected_plate)\n",
    "\n",
    "    if plate_text:\n",
    "        authorized = is_authorized(plate_text)\n",
    "        if authorized:\n",
    "            print(f\"Vehicle with plate {plate_text} is authorized. Entry granted.\")\n",
    "            # Perform actions for entry (e.g., open gate, record entry time, etc.)\n",
    "        else:\n",
    "            print(f\"Vehicle with plate {plate_text} is not authorized. Entry denied.\")\n",
    "            # Perform actions for denied entry (e.g., display message, deny access, etc.)\n",
    "\n",
    "    # Break the loop with a key press (for simulation purposes)\n",
    "    if cv2.waitKey(1) & 0xFF == ord('q'):\n",
    "        break"
   ]
  },
  {
   "cell_type": "code",
   "execution_count": null,
   "metadata": {},
   "outputs": [],
   "source": [
    "# Release resources\n",
    "cap.release()\n",
    "cv2.destroyAllWindows()"
   ]
  }
 ],
 "metadata": {
  "language_info": {
   "name": "python"
  }
 },
 "nbformat": 4,
 "nbformat_minor": 2
}
